{
 "cells": [
  {
   "cell_type": "markdown",
   "metadata": {},
   "source": [
    "# From METS-ALTO to enriched structured datasets"
   ]
  },
  {
   "cell_type": "markdown",
   "metadata": {},
   "source": [
    "First, create a directory called `downloaded_newspapers` (or anything else you like, provided you change this to your chosen name in the rest of the notebook):"
   ]
  },
  {
   "cell_type": "code",
   "execution_count": 1,
   "metadata": {},
   "outputs": [
    {
     "name": "stdout",
     "output_type": "stream",
     "text": [
      "mkdir: downloaded_newspapers: File exists\n"
     ]
    }
   ],
   "source": [
    "!mkdir downloaded_newspapers"
   ]
  },
  {
   "cell_type": "markdown",
   "metadata": {},
   "source": [
    "Now head to the repository containing the [British Library newspaper collection](https://bl.iro.bl.uk/collections/9a6a4cdd-2bfe-47bb-8c14-c0a5d100501f?locale=en). The first level of the repository is organized by titles. Each title is organized by year, i.e. the OCR texts in XML is released in one separate .zip folder per year. For the purpose of this excercise, download two .zip folders (i.e. 2 years) from one title, e.g. the [_Warrington Examiner_](https://bl.iro.bl.uk/concern/datasets/2e4efac2-e341-467b-86e9-4269ec07c474?locale=en). \n",
    "\n",
    "Now create a subfolder called `warrington_examiner` (or, again, any other name that works for you) under the folder we created above (`downloaded_newspapers`).\n",
    "\n",
    "Unzip the downloaded folder and placed them in the subfolder `warrington_examiner`. \n",
    "\n",
    "Your folder structure should now be:\n",
    "\n",
    "```\n",
    "downloaded_newspapers\n",
    "└─ warrington_examiner\n",
    "   ├─ downloaded folder 1\n",
    "   └─ downloaded folder 2\n",
    "\n",
    "```\n",
    "\n",
    "You can download as many titles as you want and as many years for those titles as you want, but for the following code to work, the folder structure must be followed. If you downloaded another title, say, [_Birkenhead News_](https://bl.iro.bl.uk/concern/datasets/30830be0-b512-4609-8e3d-be5b7f2b1498?locale=en), you'd make a folder under `downloaded_newspapers` called `birkenhead_news` (or similar), and place the downloaded .zip folders under it. Your new structure would look like this:\n",
    "\n",
    "```\n",
    "downloaded_newspapers\n",
    "├─ warrington_examiner\n",
    "│  ├─ downloaded folder 1\n",
    "│  └─ downloaded folder 2\n",
    "└─ birkenhead_news\n",
    "   ├─ downloaded folder 1\n",
    "   └─ downloaded folder 2\n",
    "```\n",
    "\n",
    "And so on until you've downloaded and organized all the titles like this. "
   ]
  },
  {
   "cell_type": "markdown",
   "metadata": {},
   "source": [
    "## Run alto2txt"
   ]
  },
  {
   "cell_type": "markdown",
   "metadata": {},
   "source": [
    "We now run `alto2txt` to convert ALTO-METS into plain TXT files, each _one_ 'item' from the downloaded folders (i.e. often roughly a news article, but this really depends on the quality of OCR page segmentation), each paired with an XML file containing some metadata about that particular item. "
   ]
  },
  {
   "cell_type": "code",
   "execution_count": 3,
   "metadata": {},
   "outputs": [],
   "source": [
    "from alto2txt import multiprocess_xml_to_text"
   ]
  },
  {
   "cell_type": "markdown",
   "metadata": {},
   "source": [
    "Define your output directory (it will be created if it doesn't exist yet):"
   ]
  },
  {
   "cell_type": "code",
   "execution_count": 8,
   "metadata": {},
   "outputs": [],
   "source": [
    "output_dir = 'newspapers_plain_text'"
   ]
  },
  {
   "cell_type": "code",
   "execution_count": 9,
   "metadata": {},
   "outputs": [
    {
     "name": "stderr",
     "output_type": "stream",
     "text": [
      "2024-05-15 08:33:51,623:alto2txt.xml_to_text:85185:INFO:Processing publication: wolverhamptontimes\n",
      "2024-05-15 08:33:51,624:alto2txt.xml_to_text:85185:INFO:Processing issue: BLNewspapers_WolverhamptonTimesandMidlandCounties_0002603_1876/0513\n",
      "2024-05-15 08:33:52,975:alto2txt.xml_to_text:85185:INFO:downloaded_newspapers/wolverhamptontimes/BLNewspapers_WolverhamptonTimesandMidlandCounties_0002603_1876/0513/0002603_18760513_mets.xml gave XSLT output\n",
      "2024-05-15 08:33:53,136:alto2txt.xml_to_text:85185:INFO:downloaded_newspapers/wolverhamptontimes/BLNewspapers_WolverhamptonTimesandMidlandCounties_0002603_1876/0513 {'num_files': 9, 'bad_xml': 0, 'converted_ok': 1, 'converted_bad': 0, 'skipped_alto': 8, 'skipped_bl_page': 0, 'skipped_mets_unknown': 0, 'skipped_root_unknown': 0, 'non_xml': 0}\n",
      "2024-05-15 08:33:53,143:alto2txt.xml_to_text:85185:INFO:Processing issue: BLNewspapers_WolverhamptonTimesandMidlandCounties_0002603_1876/0115\n",
      "2024-05-15 08:33:54,652:alto2txt.xml_to_text:85185:INFO:downloaded_newspapers/wolverhamptontimes/BLNewspapers_WolverhamptonTimesandMidlandCounties_0002603_1876/0115/0002603_18760115_mets.xml gave XSLT output\n",
      "2024-05-15 08:33:54,696:alto2txt.xml_to_text:85185:INFO:downloaded_newspapers/wolverhamptontimes/BLNewspapers_WolverhamptonTimesandMidlandCounties_0002603_1876/0115 {'num_files': 9, 'bad_xml': 0, 'converted_ok': 1, 'converted_bad': 0, 'skipped_alto': 8, 'skipped_bl_page': 0, 'skipped_mets_unknown': 0, 'skipped_root_unknown': 0, 'non_xml': 0}\n",
      "2024-05-15 08:33:54,710:alto2txt.xml_to_text:85185:INFO:Processing issue: BLNewspapers_WolverhamptonTimesandMidlandCounties_0002603_1876/0916\n",
      "2024-05-15 08:33:56,160:alto2txt.xml_to_text:85185:INFO:downloaded_newspapers/wolverhamptontimes/BLNewspapers_WolverhamptonTimesandMidlandCounties_0002603_1876/0916/0002603_18760916_mets.xml gave XSLT output\n",
      "2024-05-15 08:33:56,232:alto2txt.xml_to_text:85185:INFO:downloaded_newspapers/wolverhamptontimes/BLNewspapers_WolverhamptonTimesandMidlandCounties_0002603_1876/0916 {'num_files': 9, 'bad_xml': 0, 'converted_ok': 1, 'converted_bad': 0, 'skipped_alto': 8, 'skipped_bl_page': 0, 'skipped_mets_unknown': 0, 'skipped_root_unknown': 0, 'non_xml': 0}\n",
      "2024-05-15 08:33:56,242:alto2txt.xml_to_text:85185:INFO:Processing issue: BLNewspapers_WolverhamptonTimesandMidlandCounties_0002603_1876/0318\n",
      "2024-05-15 08:33:57,652:alto2txt.xml_to_text:85185:INFO:downloaded_newspapers/wolverhamptontimes/BLNewspapers_WolverhamptonTimesandMidlandCounties_0002603_1876/0318/0002603_18760318_mets.xml gave XSLT output\n",
      "2024-05-15 08:33:57,866:alto2txt.xml_to_text:85185:INFO:downloaded_newspapers/wolverhamptontimes/BLNewspapers_WolverhamptonTimesandMidlandCounties_0002603_1876/0318 {'num_files': 9, 'bad_xml': 0, 'converted_ok': 1, 'converted_bad': 0, 'skipped_alto': 8, 'skipped_bl_page': 0, 'skipped_mets_unknown': 0, 'skipped_root_unknown': 0, 'non_xml': 0}\n",
      "2024-05-15 08:33:57,880:alto2txt.xml_to_text:85185:INFO:Processing issue: BLNewspapers_WolverhamptonTimesandMidlandCounties_0002603_1876/0311\n",
      "2024-05-15 08:33:59,424:alto2txt.xml_to_text:85185:INFO:downloaded_newspapers/wolverhamptontimes/BLNewspapers_WolverhamptonTimesandMidlandCounties_0002603_1876/0311/0002603_18760311_mets.xml gave XSLT output\n",
      "2024-05-15 08:33:59,509:alto2txt.xml_to_text:85185:INFO:downloaded_newspapers/wolverhamptontimes/BLNewspapers_WolverhamptonTimesandMidlandCounties_0002603_1876/0311 {'num_files': 9, 'bad_xml': 0, 'converted_ok': 1, 'converted_bad': 0, 'skipped_alto': 8, 'skipped_bl_page': 0, 'skipped_mets_unknown': 0, 'skipped_root_unknown': 0, 'non_xml': 0}\n",
      "2024-05-15 08:33:59,523:alto2txt.xml_to_text:85185:INFO:Processing issue: BLNewspapers_WolverhamptonTimesandMidlandCounties_0002603_1876/1230\n",
      "2024-05-15 08:34:00,823:alto2txt.xml_to_text:85185:INFO:downloaded_newspapers/wolverhamptontimes/BLNewspapers_WolverhamptonTimesandMidlandCounties_0002603_1876/1230/0002603_18761230_mets.xml gave XSLT output\n",
      "2024-05-15 08:34:00,898:alto2txt.xml_to_text:85185:INFO:downloaded_newspapers/wolverhamptontimes/BLNewspapers_WolverhamptonTimesandMidlandCounties_0002603_1876/1230 {'num_files': 9, 'bad_xml': 0, 'converted_ok': 1, 'converted_bad': 0, 'skipped_alto': 8, 'skipped_bl_page': 0, 'skipped_mets_unknown': 0, 'skipped_root_unknown': 0, 'non_xml': 0}\n",
      "2024-05-15 08:34:00,906:alto2txt.xml_to_text:85185:INFO:Processing issue: BLNewspapers_WolverhamptonTimesandMidlandCounties_0002603_1876/0729\n",
      "2024-05-15 08:34:02,482:alto2txt.xml_to_text:85185:INFO:downloaded_newspapers/wolverhamptontimes/BLNewspapers_WolverhamptonTimesandMidlandCounties_0002603_1876/0729/0002603_18760729_mets.xml gave XSLT output\n",
      "2024-05-15 08:34:02,589:alto2txt.xml_to_text:85185:INFO:downloaded_newspapers/wolverhamptontimes/BLNewspapers_WolverhamptonTimesandMidlandCounties_0002603_1876/0729 {'num_files': 9, 'bad_xml': 0, 'converted_ok': 1, 'converted_bad': 0, 'skipped_alto': 8, 'skipped_bl_page': 0, 'skipped_mets_unknown': 0, 'skipped_root_unknown': 0, 'non_xml': 0}\n",
      "2024-05-15 08:34:02,604:alto2txt.xml_to_text:85185:INFO:Processing issue: BLNewspapers_WolverhamptonTimesandMidlandCounties_0002603_1876/0122\n",
      "2024-05-15 08:34:04,103:alto2txt.xml_to_text:85185:INFO:downloaded_newspapers/wolverhamptontimes/BLNewspapers_WolverhamptonTimesandMidlandCounties_0002603_1876/0122/0002603_18760122_mets.xml gave XSLT output\n",
      "2024-05-15 08:34:04,249:alto2txt.xml_to_text:85185:INFO:downloaded_newspapers/wolverhamptontimes/BLNewspapers_WolverhamptonTimesandMidlandCounties_0002603_1876/0122 {'num_files': 9, 'bad_xml': 0, 'converted_ok': 1, 'converted_bad': 0, 'skipped_alto': 8, 'skipped_bl_page': 0, 'skipped_mets_unknown': 0, 'skipped_root_unknown': 0, 'non_xml': 0}\n",
      "2024-05-15 08:34:04,265:alto2txt.xml_to_text:85185:INFO:Processing issue: BLNewspapers_WolverhamptonTimesandMidlandCounties_0002603_1876/1209\n",
      "2024-05-15 08:34:05,559:alto2txt.xml_to_text:85185:INFO:downloaded_newspapers/wolverhamptontimes/BLNewspapers_WolverhamptonTimesandMidlandCounties_0002603_1876/1209/0002603_18761209_mets.xml gave XSLT output\n",
      "2024-05-15 08:34:05,675:alto2txt.xml_to_text:85185:INFO:downloaded_newspapers/wolverhamptontimes/BLNewspapers_WolverhamptonTimesandMidlandCounties_0002603_1876/1209 {'num_files': 9, 'bad_xml': 0, 'converted_ok': 1, 'converted_bad': 0, 'skipped_alto': 8, 'skipped_bl_page': 0, 'skipped_mets_unknown': 0, 'skipped_root_unknown': 0, 'non_xml': 0}\n",
      "2024-05-15 08:34:05,682:alto2txt.xml_to_text:85185:INFO:Processing issue: BLNewspapers_WolverhamptonTimesandMidlandCounties_0002603_1876/1125\n",
      "2024-05-15 08:34:07,064:alto2txt.xml_to_text:85185:INFO:downloaded_newspapers/wolverhamptontimes/BLNewspapers_WolverhamptonTimesandMidlandCounties_0002603_1876/1125/0002603_18761125_mets.xml gave XSLT output\n",
      "2024-05-15 08:34:07,234:alto2txt.xml_to_text:85185:INFO:downloaded_newspapers/wolverhamptontimes/BLNewspapers_WolverhamptonTimesandMidlandCounties_0002603_1876/1125 {'num_files': 9, 'bad_xml': 0, 'converted_ok': 1, 'converted_bad': 0, 'skipped_alto': 8, 'skipped_bl_page': 0, 'skipped_mets_unknown': 0, 'skipped_root_unknown': 0, 'non_xml': 0}\n",
      "2024-05-15 08:34:07,242:alto2txt.xml_to_text:85185:INFO:Processing issue: BLNewspapers_WolverhamptonTimesandMidlandCounties_0002603_1876/0212\n",
      "2024-05-15 08:34:08,701:alto2txt.xml_to_text:85185:INFO:downloaded_newspapers/wolverhamptontimes/BLNewspapers_WolverhamptonTimesandMidlandCounties_0002603_1876/0212/0002603_18760212_mets.xml gave XSLT output\n",
      "2024-05-15 08:34:08,750:alto2txt.xml_to_text:85185:INFO:downloaded_newspapers/wolverhamptontimes/BLNewspapers_WolverhamptonTimesandMidlandCounties_0002603_1876/0212 {'num_files': 9, 'bad_xml': 0, 'converted_ok': 1, 'converted_bad': 0, 'skipped_alto': 8, 'skipped_bl_page': 0, 'skipped_mets_unknown': 0, 'skipped_root_unknown': 0, 'non_xml': 0}\n",
      "2024-05-15 08:34:08,764:alto2txt.xml_to_text:85185:INFO:Processing issue: BLNewspapers_WolverhamptonTimesandMidlandCounties_0002603_1876/0812\n",
      "2024-05-15 08:34:10,462:alto2txt.xml_to_text:85185:INFO:downloaded_newspapers/wolverhamptontimes/BLNewspapers_WolverhamptonTimesandMidlandCounties_0002603_1876/0812/0002603_18760812_mets.xml gave XSLT output\n",
      "2024-05-15 08:34:10,548:alto2txt.xml_to_text:85185:INFO:downloaded_newspapers/wolverhamptontimes/BLNewspapers_WolverhamptonTimesandMidlandCounties_0002603_1876/0812 {'num_files': 9, 'bad_xml': 0, 'converted_ok': 1, 'converted_bad': 0, 'skipped_alto': 8, 'skipped_bl_page': 0, 'skipped_mets_unknown': 0, 'skipped_root_unknown': 0, 'non_xml': 0}\n",
      "2024-05-15 08:34:10,561:alto2txt.xml_to_text:85185:INFO:Processing issue: BLNewspapers_WolverhamptonTimesandMidlandCounties_0002603_1876/0624\n",
      "2024-05-15 08:34:11,803:alto2txt.xml_to_text:85185:INFO:downloaded_newspapers/wolverhamptontimes/BLNewspapers_WolverhamptonTimesandMidlandCounties_0002603_1876/0624/0002603_18760624_mets.xml gave XSLT output\n",
      "2024-05-15 08:34:11,965:alto2txt.xml_to_text:85185:INFO:downloaded_newspapers/wolverhamptontimes/BLNewspapers_WolverhamptonTimesandMidlandCounties_0002603_1876/0624 {'num_files': 9, 'bad_xml': 0, 'converted_ok': 1, 'converted_bad': 0, 'skipped_alto': 8, 'skipped_bl_page': 0, 'skipped_mets_unknown': 0, 'skipped_root_unknown': 0, 'non_xml': 0}\n",
      "2024-05-15 08:34:11,969:alto2txt.xml_to_text:85185:INFO:Processing issue: BLNewspapers_WolverhamptonTimesandMidlandCounties_0002603_1876/0429\n",
      "2024-05-15 08:34:13,643:alto2txt.xml_to_text:85185:INFO:downloaded_newspapers/wolverhamptontimes/BLNewspapers_WolverhamptonTimesandMidlandCounties_0002603_1876/0429/0002603_18760429_mets.xml gave XSLT output\n",
      "2024-05-15 08:34:13,667:alto2txt.xml_to_text:85185:INFO:downloaded_newspapers/wolverhamptontimes/BLNewspapers_WolverhamptonTimesandMidlandCounties_0002603_1876/0429 {'num_files': 9, 'bad_xml': 0, 'converted_ok': 1, 'converted_bad': 0, 'skipped_alto': 8, 'skipped_bl_page': 0, 'skipped_mets_unknown': 0, 'skipped_root_unknown': 0, 'non_xml': 0}\n",
      "2024-05-15 08:34:13,682:alto2txt.xml_to_text:85185:INFO:Processing issue: BLNewspapers_WolverhamptonTimesandMidlandCounties_0002603_1876/1028\n",
      "2024-05-15 08:34:14,970:alto2txt.xml_to_text:85185:INFO:downloaded_newspapers/wolverhamptontimes/BLNewspapers_WolverhamptonTimesandMidlandCounties_0002603_1876/1028/0002603_18761028_mets.xml gave XSLT output\n",
      "2024-05-15 08:34:15,068:alto2txt.xml_to_text:85185:INFO:downloaded_newspapers/wolverhamptontimes/BLNewspapers_WolverhamptonTimesandMidlandCounties_0002603_1876/1028 {'num_files': 9, 'bad_xml': 0, 'converted_ok': 1, 'converted_bad': 0, 'skipped_alto': 8, 'skipped_bl_page': 0, 'skipped_mets_unknown': 0, 'skipped_root_unknown': 0, 'non_xml': 0}\n",
      "2024-05-15 08:34:15,082:alto2txt.xml_to_text:85185:INFO:Processing issue: BLNewspapers_WolverhamptonTimesandMidlandCounties_0002603_1876/0304\n",
      "2024-05-15 08:34:16,426:alto2txt.xml_to_text:85185:INFO:downloaded_newspapers/wolverhamptontimes/BLNewspapers_WolverhamptonTimesandMidlandCounties_0002603_1876/0304/0002603_18760304_mets.xml gave XSLT output\n",
      "2024-05-15 08:34:16,512:alto2txt.xml_to_text:85185:INFO:downloaded_newspapers/wolverhamptontimes/BLNewspapers_WolverhamptonTimesandMidlandCounties_0002603_1876/0304 {'num_files': 9, 'bad_xml': 0, 'converted_ok': 1, 'converted_bad': 0, 'skipped_alto': 8, 'skipped_bl_page': 0, 'skipped_mets_unknown': 0, 'skipped_root_unknown': 0, 'non_xml': 0}\n",
      "2024-05-15 08:34:16,526:alto2txt.xml_to_text:85185:INFO:Processing issue: BLNewspapers_WolverhamptonTimesandMidlandCounties_0002603_1876/1021\n",
      "2024-05-15 08:34:17,959:alto2txt.xml_to_text:85185:INFO:downloaded_newspapers/wolverhamptontimes/BLNewspapers_WolverhamptonTimesandMidlandCounties_0002603_1876/1021/0002603_18761021_mets.xml gave XSLT output\n",
      "2024-05-15 08:34:18,008:alto2txt.xml_to_text:85185:INFO:downloaded_newspapers/wolverhamptontimes/BLNewspapers_WolverhamptonTimesandMidlandCounties_0002603_1876/1021 {'num_files': 9, 'bad_xml': 0, 'converted_ok': 1, 'converted_bad': 0, 'skipped_alto': 8, 'skipped_bl_page': 0, 'skipped_mets_unknown': 0, 'skipped_root_unknown': 0, 'non_xml': 0}\n",
      "2024-05-15 08:34:18,016:alto2txt.xml_to_text:85185:INFO:Processing issue: BLNewspapers_WolverhamptonTimesandMidlandCounties_0002603_1876/0506\n",
      "2024-05-15 08:34:19,522:alto2txt.xml_to_text:85185:INFO:downloaded_newspapers/wolverhamptontimes/BLNewspapers_WolverhamptonTimesandMidlandCounties_0002603_1876/0506/0002603_18760506_mets.xml gave XSLT output\n",
      "2024-05-15 08:34:19,626:alto2txt.xml_to_text:85185:INFO:downloaded_newspapers/wolverhamptontimes/BLNewspapers_WolverhamptonTimesandMidlandCounties_0002603_1876/0506 {'num_files': 9, 'bad_xml': 0, 'converted_ok': 1, 'converted_bad': 0, 'skipped_alto': 8, 'skipped_bl_page': 0, 'skipped_mets_unknown': 0, 'skipped_root_unknown': 0, 'non_xml': 0}\n",
      "2024-05-15 08:34:19,641:alto2txt.xml_to_text:85185:INFO:Processing issue: BLNewspapers_WolverhamptonTimesandMidlandCounties_0002603_1876/0902\n",
      "2024-05-15 08:34:21,102:alto2txt.xml_to_text:85185:INFO:downloaded_newspapers/wolverhamptontimes/BLNewspapers_WolverhamptonTimesandMidlandCounties_0002603_1876/0902/0002603_18760902_mets.xml gave XSLT output\n",
      "2024-05-15 08:34:21,139:alto2txt.xml_to_text:85185:INFO:downloaded_newspapers/wolverhamptontimes/BLNewspapers_WolverhamptonTimesandMidlandCounties_0002603_1876/0902 {'num_files': 9, 'bad_xml': 0, 'converted_ok': 1, 'converted_bad': 0, 'skipped_alto': 8, 'skipped_bl_page': 0, 'skipped_mets_unknown': 0, 'skipped_root_unknown': 0, 'non_xml': 0}\n",
      "2024-05-15 08:34:21,153:alto2txt.xml_to_text:85185:INFO:Processing issue: BLNewspapers_WolverhamptonTimesandMidlandCounties_0002603_1876/0101\n",
      "2024-05-15 08:34:22,891:alto2txt.xml_to_text:85185:INFO:downloaded_newspapers/wolverhamptontimes/BLNewspapers_WolverhamptonTimesandMidlandCounties_0002603_1876/0101/0002603_18760101_mets.xml gave XSLT output\n",
      "2024-05-15 08:34:22,965:alto2txt.xml_to_text:85185:INFO:downloaded_newspapers/wolverhamptontimes/BLNewspapers_WolverhamptonTimesandMidlandCounties_0002603_1876/0101 {'num_files': 9, 'bad_xml': 0, 'converted_ok': 1, 'converted_bad': 0, 'skipped_alto': 8, 'skipped_bl_page': 0, 'skipped_mets_unknown': 0, 'skipped_root_unknown': 0, 'non_xml': 0}\n",
      "2024-05-15 08:34:22,978:alto2txt.xml_to_text:85185:INFO:Processing issue: BLNewspapers_WolverhamptonTimesandMidlandCounties_0002603_1876/0108\n",
      "2024-05-15 08:34:24,412:alto2txt.xml_to_text:85185:INFO:downloaded_newspapers/wolverhamptontimes/BLNewspapers_WolverhamptonTimesandMidlandCounties_0002603_1876/0108/0002603_18760108_mets.xml gave XSLT output\n",
      "2024-05-15 08:34:24,610:alto2txt.xml_to_text:85185:INFO:downloaded_newspapers/wolverhamptontimes/BLNewspapers_WolverhamptonTimesandMidlandCounties_0002603_1876/0108 {'num_files': 9, 'bad_xml': 0, 'converted_ok': 1, 'converted_bad': 0, 'skipped_alto': 8, 'skipped_bl_page': 0, 'skipped_mets_unknown': 0, 'skipped_root_unknown': 0, 'non_xml': 0}\n",
      "2024-05-15 08:34:24,624:alto2txt.xml_to_text:85185:INFO:Processing issue: BLNewspapers_WolverhamptonTimesandMidlandCounties_0002603_1876/1223\n",
      "2024-05-15 08:34:25,859:alto2txt.xml_to_text:85185:INFO:downloaded_newspapers/wolverhamptontimes/BLNewspapers_WolverhamptonTimesandMidlandCounties_0002603_1876/1223/0002603_18761223_mets.xml gave XSLT output\n",
      "2024-05-15 08:34:26,058:alto2txt.xml_to_text:85185:INFO:downloaded_newspapers/wolverhamptontimes/BLNewspapers_WolverhamptonTimesandMidlandCounties_0002603_1876/1223 {'num_files': 9, 'bad_xml': 0, 'converted_ok': 1, 'converted_bad': 0, 'skipped_alto': 8, 'skipped_bl_page': 0, 'skipped_mets_unknown': 0, 'skipped_root_unknown': 0, 'non_xml': 0}\n",
      "2024-05-15 08:34:26,062:alto2txt.xml_to_text:85185:INFO:Processing issue: BLNewspapers_WolverhamptonTimesandMidlandCounties_0002603_1876/1202\n",
      "2024-05-15 08:34:27,331:alto2txt.xml_to_text:85185:INFO:downloaded_newspapers/wolverhamptontimes/BLNewspapers_WolverhamptonTimesandMidlandCounties_0002603_1876/1202/0002603_18761202_mets.xml gave XSLT output\n",
      "2024-05-15 08:34:27,475:alto2txt.xml_to_text:85185:INFO:downloaded_newspapers/wolverhamptontimes/BLNewspapers_WolverhamptonTimesandMidlandCounties_0002603_1876/1202 {'num_files': 9, 'bad_xml': 0, 'converted_ok': 1, 'converted_bad': 0, 'skipped_alto': 8, 'skipped_bl_page': 0, 'skipped_mets_unknown': 0, 'skipped_root_unknown': 0, 'non_xml': 0}\n",
      "2024-05-15 08:34:27,481:alto2txt.xml_to_text:85185:INFO:Processing issue: BLNewspapers_WolverhamptonTimesandMidlandCounties_0002603_1876/0129\n",
      "2024-05-15 08:34:28,807:alto2txt.xml_to_text:85185:INFO:downloaded_newspapers/wolverhamptontimes/BLNewspapers_WolverhamptonTimesandMidlandCounties_0002603_1876/0129/0002603_18760129_mets.xml gave XSLT output\n",
      "2024-05-15 08:34:28,980:alto2txt.xml_to_text:85185:INFO:downloaded_newspapers/wolverhamptontimes/BLNewspapers_WolverhamptonTimesandMidlandCounties_0002603_1876/0129 {'num_files': 9, 'bad_xml': 0, 'converted_ok': 1, 'converted_bad': 0, 'skipped_alto': 8, 'skipped_bl_page': 0, 'skipped_mets_unknown': 0, 'skipped_root_unknown': 0, 'non_xml': 0}\n",
      "2024-05-15 08:34:28,986:alto2txt.xml_to_text:85185:INFO:Processing issue: BLNewspapers_WolverhamptonTimesandMidlandCounties_0002603_1876/0923\n",
      "2024-05-15 08:34:30,268:alto2txt.xml_to_text:85185:INFO:downloaded_newspapers/wolverhamptontimes/BLNewspapers_WolverhamptonTimesandMidlandCounties_0002603_1876/0923/0002603_18760923_mets.xml gave XSLT output\n",
      "2024-05-15 08:34:30,287:alto2txt.xml_to_text:85185:INFO:downloaded_newspapers/wolverhamptontimes/BLNewspapers_WolverhamptonTimesandMidlandCounties_0002603_1876/0923 {'num_files': 9, 'bad_xml': 0, 'converted_ok': 1, 'converted_bad': 0, 'skipped_alto': 8, 'skipped_bl_page': 0, 'skipped_mets_unknown': 0, 'skipped_root_unknown': 0, 'non_xml': 0}\n",
      "2024-05-15 08:34:30,299:alto2txt.xml_to_text:85185:INFO:Processing issue: BLNewspapers_WolverhamptonTimesandMidlandCounties_0002603_1876/0722\n",
      "2024-05-15 08:34:31,551:alto2txt.xml_to_text:85185:INFO:downloaded_newspapers/wolverhamptontimes/BLNewspapers_WolverhamptonTimesandMidlandCounties_0002603_1876/0722/0002603_18760722_mets.xml gave XSLT output\n",
      "2024-05-15 08:34:31,730:alto2txt.xml_to_text:85185:INFO:downloaded_newspapers/wolverhamptontimes/BLNewspapers_WolverhamptonTimesandMidlandCounties_0002603_1876/0722 {'num_files': 9, 'bad_xml': 0, 'converted_ok': 1, 'converted_bad': 0, 'skipped_alto': 8, 'skipped_bl_page': 0, 'skipped_mets_unknown': 0, 'skipped_root_unknown': 0, 'non_xml': 0}\n",
      "2024-05-15 08:34:31,746:alto2txt.xml_to_text:85185:INFO:Processing issue: BLNewspapers_WolverhamptonTimesandMidlandCounties_0002603_1876/1007\n",
      "2024-05-15 08:34:33,188:alto2txt.xml_to_text:85185:INFO:downloaded_newspapers/wolverhamptontimes/BLNewspapers_WolverhamptonTimesandMidlandCounties_0002603_1876/1007/0002603_18761007_mets.xml gave XSLT output\n",
      "2024-05-15 08:34:33,297:alto2txt.xml_to_text:85185:INFO:downloaded_newspapers/wolverhamptontimes/BLNewspapers_WolverhamptonTimesandMidlandCounties_0002603_1876/1007 {'num_files': 9, 'bad_xml': 0, 'converted_ok': 1, 'converted_bad': 0, 'skipped_alto': 8, 'skipped_bl_page': 0, 'skipped_mets_unknown': 0, 'skipped_root_unknown': 0, 'non_xml': 0}\n",
      "2024-05-15 08:34:33,313:alto2txt.xml_to_text:85185:INFO:Processing issue: BLNewspapers_WolverhamptonTimesandMidlandCounties_0002603_1876/0325\n",
      "2024-05-15 08:34:34,742:alto2txt.xml_to_text:85185:INFO:downloaded_newspapers/wolverhamptontimes/BLNewspapers_WolverhamptonTimesandMidlandCounties_0002603_1876/0325/0002603_18760325_mets.xml gave XSLT output\n",
      "2024-05-15 08:34:34,743:alto2txt.xml_to_text:85185:INFO:downloaded_newspapers/wolverhamptontimes/BLNewspapers_WolverhamptonTimesandMidlandCounties_0002603_1876/0325 {'num_files': 9, 'bad_xml': 0, 'converted_ok': 1, 'converted_bad': 0, 'skipped_alto': 8, 'skipped_bl_page': 0, 'skipped_mets_unknown': 0, 'skipped_root_unknown': 0, 'non_xml': 0}\n",
      "2024-05-15 08:34:34,745:alto2txt.xml_to_text:85185:INFO:Processing issue: BLNewspapers_WolverhamptonTimesandMidlandCounties_0002603_1876/0715\n",
      "2024-05-15 08:34:36,119:alto2txt.xml_to_text:85185:INFO:downloaded_newspapers/wolverhamptontimes/BLNewspapers_WolverhamptonTimesandMidlandCounties_0002603_1876/0715/0002603_18760715_mets.xml gave XSLT output\n",
      "2024-05-15 08:34:36,219:alto2txt.xml_to_text:85185:INFO:downloaded_newspapers/wolverhamptontimes/BLNewspapers_WolverhamptonTimesandMidlandCounties_0002603_1876/0715 {'num_files': 9, 'bad_xml': 0, 'converted_ok': 1, 'converted_bad': 0, 'skipped_alto': 8, 'skipped_bl_page': 0, 'skipped_mets_unknown': 0, 'skipped_root_unknown': 0, 'non_xml': 0}\n",
      "2024-05-15 08:34:36,232:alto2txt.xml_to_text:85185:INFO:Processing issue: BLNewspapers_WolverhamptonTimesandMidlandCounties_0002603_1876/0527\n",
      "2024-05-15 08:34:37,647:alto2txt.xml_to_text:85185:INFO:downloaded_newspapers/wolverhamptontimes/BLNewspapers_WolverhamptonTimesandMidlandCounties_0002603_1876/0527/0002603_18760527_mets.xml gave XSLT output\n",
      "2024-05-15 08:34:37,781:alto2txt.xml_to_text:85185:INFO:downloaded_newspapers/wolverhamptontimes/BLNewspapers_WolverhamptonTimesandMidlandCounties_0002603_1876/0527 {'num_files': 9, 'bad_xml': 0, 'converted_ok': 1, 'converted_bad': 0, 'skipped_alto': 8, 'skipped_bl_page': 0, 'skipped_mets_unknown': 0, 'skipped_root_unknown': 0, 'non_xml': 0}\n",
      "2024-05-15 08:34:37,793:alto2txt.xml_to_text:85185:INFO:Processing issue: BLNewspapers_WolverhamptonTimesandMidlandCounties_0002603_1876/0520\n",
      "2024-05-15 08:34:39,247:alto2txt.xml_to_text:85185:INFO:downloaded_newspapers/wolverhamptontimes/BLNewspapers_WolverhamptonTimesandMidlandCounties_0002603_1876/0520/0002603_18760520_mets.xml gave XSLT output\n",
      "2024-05-15 08:34:39,301:alto2txt.xml_to_text:85185:INFO:downloaded_newspapers/wolverhamptontimes/BLNewspapers_WolverhamptonTimesandMidlandCounties_0002603_1876/0520 {'num_files': 9, 'bad_xml': 0, 'converted_ok': 1, 'converted_bad': 0, 'skipped_alto': 8, 'skipped_bl_page': 0, 'skipped_mets_unknown': 0, 'skipped_root_unknown': 0, 'non_xml': 0}\n",
      "2024-05-15 08:34:39,315:alto2txt.xml_to_text:85185:INFO:Processing issue: BLNewspapers_WolverhamptonTimesandMidlandCounties_0002603_1876/0401\n",
      "2024-05-15 08:34:40,665:alto2txt.xml_to_text:85185:INFO:downloaded_newspapers/wolverhamptontimes/BLNewspapers_WolverhamptonTimesandMidlandCounties_0002603_1876/0401/0002603_18760401_mets.xml gave XSLT output\n",
      "2024-05-15 08:34:40,783:alto2txt.xml_to_text:85185:INFO:downloaded_newspapers/wolverhamptontimes/BLNewspapers_WolverhamptonTimesandMidlandCounties_0002603_1876/0401 {'num_files': 9, 'bad_xml': 0, 'converted_ok': 1, 'converted_bad': 0, 'skipped_alto': 8, 'skipped_bl_page': 0, 'skipped_mets_unknown': 0, 'skipped_root_unknown': 0, 'non_xml': 0}\n",
      "2024-05-15 08:34:40,797:alto2txt.xml_to_text:85185:INFO:Processing issue: BLNewspapers_WolverhamptonTimesandMidlandCounties_0002603_1876/0408\n",
      "2024-05-15 08:34:42,242:alto2txt.xml_to_text:85185:INFO:downloaded_newspapers/wolverhamptontimes/BLNewspapers_WolverhamptonTimesandMidlandCounties_0002603_1876/0408/0002603_18760408_mets.xml gave XSLT output\n",
      "2024-05-15 08:34:42,286:alto2txt.xml_to_text:85185:INFO:downloaded_newspapers/wolverhamptontimes/BLNewspapers_WolverhamptonTimesandMidlandCounties_0002603_1876/0408 {'num_files': 9, 'bad_xml': 0, 'converted_ok': 1, 'converted_bad': 0, 'skipped_alto': 8, 'skipped_bl_page': 0, 'skipped_mets_unknown': 0, 'skipped_root_unknown': 0, 'non_xml': 0}\n",
      "2024-05-15 08:34:42,301:alto2txt.xml_to_text:85185:INFO:Processing issue: BLNewspapers_WolverhamptonTimesandMidlandCounties_0002603_1876/0205\n",
      "2024-05-15 08:34:43,566:alto2txt.xml_to_text:85185:INFO:downloaded_newspapers/wolverhamptontimes/BLNewspapers_WolverhamptonTimesandMidlandCounties_0002603_1876/0205/0002603_18760205_mets.xml gave XSLT output\n",
      "2024-05-15 08:34:43,689:alto2txt.xml_to_text:85185:INFO:downloaded_newspapers/wolverhamptontimes/BLNewspapers_WolverhamptonTimesandMidlandCounties_0002603_1876/0205 {'num_files': 9, 'bad_xml': 0, 'converted_ok': 1, 'converted_bad': 0, 'skipped_alto': 8, 'skipped_bl_page': 0, 'skipped_mets_unknown': 0, 'skipped_root_unknown': 0, 'non_xml': 0}\n",
      "2024-05-15 08:34:43,704:alto2txt.xml_to_text:85185:INFO:Processing issue: BLNewspapers_WolverhamptonTimesandMidlandCounties_0002603_1876/1111\n",
      "2024-05-15 08:34:44,901:alto2txt.xml_to_text:85185:INFO:downloaded_newspapers/wolverhamptontimes/BLNewspapers_WolverhamptonTimesandMidlandCounties_0002603_1876/1111/0002603_18761111_mets.xml gave XSLT output\n",
      "2024-05-15 08:34:45,032:alto2txt.xml_to_text:85185:INFO:downloaded_newspapers/wolverhamptontimes/BLNewspapers_WolverhamptonTimesandMidlandCounties_0002603_1876/1111 {'num_files': 9, 'bad_xml': 0, 'converted_ok': 1, 'converted_bad': 0, 'skipped_alto': 8, 'skipped_bl_page': 0, 'skipped_mets_unknown': 0, 'skipped_root_unknown': 0, 'non_xml': 0}\n",
      "2024-05-15 08:34:45,041:alto2txt.xml_to_text:85185:INFO:Processing issue: BLNewspapers_WolverhamptonTimesandMidlandCounties_0002603_1876/1118\n",
      "2024-05-15 08:34:46,420:alto2txt.xml_to_text:85185:INFO:downloaded_newspapers/wolverhamptontimes/BLNewspapers_WolverhamptonTimesandMidlandCounties_0002603_1876/1118/0002603_18761118_mets.xml gave XSLT output\n",
      "2024-05-15 08:34:46,443:alto2txt.xml_to_text:85185:INFO:downloaded_newspapers/wolverhamptontimes/BLNewspapers_WolverhamptonTimesandMidlandCounties_0002603_1876/1118 {'num_files': 9, 'bad_xml': 0, 'converted_ok': 1, 'converted_bad': 0, 'skipped_alto': 8, 'skipped_bl_page': 0, 'skipped_mets_unknown': 0, 'skipped_root_unknown': 0, 'non_xml': 0}\n",
      "2024-05-15 08:34:46,457:alto2txt.xml_to_text:85185:INFO:Processing issue: BLNewspapers_WolverhamptonTimesandMidlandCounties_0002603_1876/0805\n",
      "2024-05-15 08:34:48,027:alto2txt.xml_to_text:85185:INFO:downloaded_newspapers/wolverhamptontimes/BLNewspapers_WolverhamptonTimesandMidlandCounties_0002603_1876/0805/0002603_18760805_mets.xml gave XSLT output\n",
      "2024-05-15 08:34:48,027:alto2txt.xml_to_text:85185:INFO:downloaded_newspapers/wolverhamptontimes/BLNewspapers_WolverhamptonTimesandMidlandCounties_0002603_1876/0805 {'num_files': 9, 'bad_xml': 0, 'converted_ok': 1, 'converted_bad': 0, 'skipped_alto': 8, 'skipped_bl_page': 0, 'skipped_mets_unknown': 0, 'skipped_root_unknown': 0, 'non_xml': 0}\n",
      "2024-05-15 08:34:48,029:alto2txt.xml_to_text:85185:INFO:Processing issue: BLNewspapers_WolverhamptonTimesandMidlandCounties_0002603_1876/0603\n",
      "2024-05-15 08:34:49,297:alto2txt.xml_to_text:85185:INFO:downloaded_newspapers/wolverhamptontimes/BLNewspapers_WolverhamptonTimesandMidlandCounties_0002603_1876/0603/0002603_18760603_mets.xml gave XSLT output\n",
      "2024-05-15 08:34:49,427:alto2txt.xml_to_text:85185:INFO:downloaded_newspapers/wolverhamptontimes/BLNewspapers_WolverhamptonTimesandMidlandCounties_0002603_1876/0603 {'num_files': 9, 'bad_xml': 0, 'converted_ok': 1, 'converted_bad': 0, 'skipped_alto': 8, 'skipped_bl_page': 0, 'skipped_mets_unknown': 0, 'skipped_root_unknown': 0, 'non_xml': 0}\n",
      "2024-05-15 08:34:49,443:alto2txt.xml_to_text:85185:INFO:Processing issue: BLNewspapers_WolverhamptonTimesandMidlandCounties_0002603_1876/0422\n",
      "2024-05-15 08:34:50,868:alto2txt.xml_to_text:85185:INFO:downloaded_newspapers/wolverhamptontimes/BLNewspapers_WolverhamptonTimesandMidlandCounties_0002603_1876/0422/0002603_18760422_mets.xml gave XSLT output\n",
      "2024-05-15 08:34:50,971:alto2txt.xml_to_text:85185:INFO:downloaded_newspapers/wolverhamptontimes/BLNewspapers_WolverhamptonTimesandMidlandCounties_0002603_1876/0422 {'num_files': 9, 'bad_xml': 0, 'converted_ok': 1, 'converted_bad': 0, 'skipped_alto': 8, 'skipped_bl_page': 0, 'skipped_mets_unknown': 0, 'skipped_root_unknown': 0, 'non_xml': 0}\n",
      "2024-05-15 08:34:50,985:alto2txt.xml_to_text:85185:INFO:Processing issue: BLNewspapers_WolverhamptonTimesandMidlandCounties_0002603_1876/0610\n",
      "2024-05-15 08:34:52,229:alto2txt.xml_to_text:85185:INFO:downloaded_newspapers/wolverhamptontimes/BLNewspapers_WolverhamptonTimesandMidlandCounties_0002603_1876/0610/0002603_18760610_mets.xml gave XSLT output\n",
      "2024-05-15 08:34:52,344:alto2txt.xml_to_text:85185:INFO:downloaded_newspapers/wolverhamptontimes/BLNewspapers_WolverhamptonTimesandMidlandCounties_0002603_1876/0610 {'num_files': 9, 'bad_xml': 0, 'converted_ok': 1, 'converted_bad': 0, 'skipped_alto': 8, 'skipped_bl_page': 0, 'skipped_mets_unknown': 0, 'skipped_root_unknown': 0, 'non_xml': 0}\n",
      "2024-05-15 08:34:52,357:alto2txt.xml_to_text:85185:INFO:Processing issue: BLNewspapers_WolverhamptonTimesandMidlandCounties_0002603_1876/0617\n",
      "2024-05-15 08:34:53,668:alto2txt.xml_to_text:85185:INFO:downloaded_newspapers/wolverhamptontimes/BLNewspapers_WolverhamptonTimesandMidlandCounties_0002603_1876/0617/0002603_18760617_mets.xml gave XSLT output\n",
      "2024-05-15 08:34:53,711:alto2txt.xml_to_text:85185:INFO:downloaded_newspapers/wolverhamptontimes/BLNewspapers_WolverhamptonTimesandMidlandCounties_0002603_1876/0617 {'num_files': 9, 'bad_xml': 0, 'converted_ok': 1, 'converted_bad': 0, 'skipped_alto': 8, 'skipped_bl_page': 0, 'skipped_mets_unknown': 0, 'skipped_root_unknown': 0, 'non_xml': 0}\n",
      "2024-05-15 08:34:53,724:alto2txt.xml_to_text:85185:INFO:Processing issue: BLNewspapers_WolverhamptonTimesandMidlandCounties_0002603_1876/0415\n",
      "2024-05-15 08:34:54,949:alto2txt.xml_to_text:85185:INFO:downloaded_newspapers/wolverhamptontimes/BLNewspapers_WolverhamptonTimesandMidlandCounties_0002603_1876/0415/0002603_18760415_mets.xml gave XSLT output\n",
      "2024-05-15 08:34:55,129:alto2txt.xml_to_text:85185:INFO:downloaded_newspapers/wolverhamptontimes/BLNewspapers_WolverhamptonTimesandMidlandCounties_0002603_1876/0415 {'num_files': 9, 'bad_xml': 0, 'converted_ok': 1, 'converted_bad': 0, 'skipped_alto': 8, 'skipped_bl_page': 0, 'skipped_mets_unknown': 0, 'skipped_root_unknown': 0, 'non_xml': 0}\n",
      "2024-05-15 08:34:55,144:alto2txt.xml_to_text:85185:INFO:Processing issue: BLNewspapers_WolverhamptonTimesandMidlandCounties_0002603_1876/0219\n",
      "2024-05-15 08:34:56,653:alto2txt.xml_to_text:85185:INFO:downloaded_newspapers/wolverhamptontimes/BLNewspapers_WolverhamptonTimesandMidlandCounties_0002603_1876/0219/0002603_18760219_mets.xml gave XSLT output\n",
      "2024-05-15 08:34:56,732:alto2txt.xml_to_text:85185:INFO:downloaded_newspapers/wolverhamptontimes/BLNewspapers_WolverhamptonTimesandMidlandCounties_0002603_1876/0219 {'num_files': 9, 'bad_xml': 0, 'converted_ok': 1, 'converted_bad': 0, 'skipped_alto': 8, 'skipped_bl_page': 0, 'skipped_mets_unknown': 0, 'skipped_root_unknown': 0, 'non_xml': 0}\n",
      "2024-05-15 08:34:56,746:alto2txt.xml_to_text:85185:INFO:Processing issue: BLNewspapers_WolverhamptonTimesandMidlandCounties_0002603_1876/0226\n",
      "2024-05-15 08:34:58,340:alto2txt.xml_to_text:85185:INFO:downloaded_newspapers/wolverhamptontimes/BLNewspapers_WolverhamptonTimesandMidlandCounties_0002603_1876/0226/0002603_18760226_mets.xml gave XSLT output\n",
      "2024-05-15 08:34:58,410:alto2txt.xml_to_text:85185:INFO:downloaded_newspapers/wolverhamptontimes/BLNewspapers_WolverhamptonTimesandMidlandCounties_0002603_1876/0226 {'num_files': 9, 'bad_xml': 0, 'converted_ok': 1, 'converted_bad': 0, 'skipped_alto': 8, 'skipped_bl_page': 0, 'skipped_mets_unknown': 0, 'skipped_root_unknown': 0, 'non_xml': 0}\n",
      "2024-05-15 08:34:58,421:alto2txt.xml_to_text:85185:INFO:Processing issue: BLNewspapers_WolverhamptonTimesandMidlandCounties_0002603_1876/1104\n",
      "2024-05-15 08:34:59,587:alto2txt.xml_to_text:85185:INFO:downloaded_newspapers/wolverhamptontimes/BLNewspapers_WolverhamptonTimesandMidlandCounties_0002603_1876/1104/0002603_18761104_mets.xml gave XSLT output\n",
      "2024-05-15 08:34:59,776:alto2txt.xml_to_text:85185:INFO:downloaded_newspapers/wolverhamptontimes/BLNewspapers_WolverhamptonTimesandMidlandCounties_0002603_1876/1104 {'num_files': 9, 'bad_xml': 0, 'converted_ok': 1, 'converted_bad': 0, 'skipped_alto': 8, 'skipped_bl_page': 0, 'skipped_mets_unknown': 0, 'skipped_root_unknown': 0, 'non_xml': 0}\n",
      "2024-05-15 08:34:59,783:alto2txt.xml_to_text:85185:INFO:Processing issue: BLNewspapers_WolverhamptonTimesandMidlandCounties_0002603_1876/0826\n",
      "2024-05-15 08:35:01,115:alto2txt.xml_to_text:85185:INFO:downloaded_newspapers/wolverhamptontimes/BLNewspapers_WolverhamptonTimesandMidlandCounties_0002603_1876/0826/0002603_18760826_mets.xml gave XSLT output\n",
      "2024-05-15 08:35:01,275:alto2txt.xml_to_text:85185:INFO:downloaded_newspapers/wolverhamptontimes/BLNewspapers_WolverhamptonTimesandMidlandCounties_0002603_1876/0826 {'num_files': 9, 'bad_xml': 0, 'converted_ok': 1, 'converted_bad': 0, 'skipped_alto': 8, 'skipped_bl_page': 0, 'skipped_mets_unknown': 0, 'skipped_root_unknown': 0, 'non_xml': 0}\n",
      "2024-05-15 08:35:01,280:alto2txt.xml_to_text:85185:INFO:Processing issue: BLNewspapers_WolverhamptonTimesandMidlandCounties_0002603_1876/0819\n",
      "2024-05-15 08:35:02,552:alto2txt.xml_to_text:85185:INFO:downloaded_newspapers/wolverhamptontimes/BLNewspapers_WolverhamptonTimesandMidlandCounties_0002603_1876/0819/0002603_18760819_mets.xml gave XSLT output\n",
      "2024-05-15 08:35:02,699:alto2txt.xml_to_text:85185:INFO:downloaded_newspapers/wolverhamptontimes/BLNewspapers_WolverhamptonTimesandMidlandCounties_0002603_1876/0819 {'num_files': 9, 'bad_xml': 0, 'converted_ok': 1, 'converted_bad': 0, 'skipped_alto': 8, 'skipped_bl_page': 0, 'skipped_mets_unknown': 0, 'skipped_root_unknown': 0, 'non_xml': 0}\n",
      "2024-05-15 08:35:02,704:alto2txt.xml_to_text:85185:INFO:Processing issue: BLNewspapers_WolverhamptonTimesandMidlandCounties_0002603_1876/0701\n",
      "2024-05-15 08:35:04,023:alto2txt.xml_to_text:85185:INFO:downloaded_newspapers/wolverhamptontimes/BLNewspapers_WolverhamptonTimesandMidlandCounties_0002603_1876/0701/0002603_18760701_mets.xml gave XSLT output\n",
      "2024-05-15 08:35:04,091:alto2txt.xml_to_text:85185:INFO:downloaded_newspapers/wolverhamptontimes/BLNewspapers_WolverhamptonTimesandMidlandCounties_0002603_1876/0701 {'num_files': 9, 'bad_xml': 0, 'converted_ok': 1, 'converted_bad': 0, 'skipped_alto': 8, 'skipped_bl_page': 0, 'skipped_mets_unknown': 0, 'skipped_root_unknown': 0, 'non_xml': 0}\n",
      "2024-05-15 08:35:04,106:alto2txt.xml_to_text:85185:INFO:Processing issue: BLNewspapers_WolverhamptonTimesandMidlandCounties_0002603_1876/0708\n",
      "2024-05-15 08:35:05,394:alto2txt.xml_to_text:85185:INFO:downloaded_newspapers/wolverhamptontimes/BLNewspapers_WolverhamptonTimesandMidlandCounties_0002603_1876/0708/0002603_18760708_mets.xml gave XSLT output\n",
      "2024-05-15 08:35:05,504:alto2txt.xml_to_text:85185:INFO:downloaded_newspapers/wolverhamptontimes/BLNewspapers_WolverhamptonTimesandMidlandCounties_0002603_1876/0708 {'num_files': 9, 'bad_xml': 0, 'converted_ok': 1, 'converted_bad': 0, 'skipped_alto': 8, 'skipped_bl_page': 0, 'skipped_mets_unknown': 0, 'skipped_root_unknown': 0, 'non_xml': 0}\n",
      "2024-05-15 08:35:05,517:alto2txt.xml_to_text:85185:INFO:Processing issue: BLNewspapers_WolverhamptonTimesandMidlandCounties_0002603_1876/0909\n",
      "2024-05-15 08:35:06,928:alto2txt.xml_to_text:85185:INFO:downloaded_newspapers/wolverhamptontimes/BLNewspapers_WolverhamptonTimesandMidlandCounties_0002603_1876/0909/0002603_18760909_mets.xml gave XSLT output\n",
      "2024-05-15 08:35:07,005:alto2txt.xml_to_text:85185:INFO:downloaded_newspapers/wolverhamptontimes/BLNewspapers_WolverhamptonTimesandMidlandCounties_0002603_1876/0909 {'num_files': 9, 'bad_xml': 0, 'converted_ok': 1, 'converted_bad': 0, 'skipped_alto': 8, 'skipped_bl_page': 0, 'skipped_mets_unknown': 0, 'skipped_root_unknown': 0, 'non_xml': 0}\n",
      "2024-05-15 08:35:07,019:alto2txt.xml_to_text:85185:INFO:Processing issue: BLNewspapers_WolverhamptonTimesandMidlandCounties_0002603_1876/1014\n",
      "2024-05-15 08:35:08,253:alto2txt.xml_to_text:85185:INFO:downloaded_newspapers/wolverhamptontimes/BLNewspapers_WolverhamptonTimesandMidlandCounties_0002603_1876/1014/0002603_18761014_mets.xml gave XSLT output\n",
      "2024-05-15 08:35:08,354:alto2txt.xml_to_text:85185:INFO:downloaded_newspapers/wolverhamptontimes/BLNewspapers_WolverhamptonTimesandMidlandCounties_0002603_1876/1014 {'num_files': 9, 'bad_xml': 0, 'converted_ok': 1, 'converted_bad': 0, 'skipped_alto': 8, 'skipped_bl_page': 0, 'skipped_mets_unknown': 0, 'skipped_root_unknown': 0, 'non_xml': 0}\n",
      "2024-05-15 08:35:08,361:alto2txt.xml_to_text:85185:INFO:Processing issue: BLNewspapers_WolverhamptonTimesandMidlandCounties_0002603_1876/1216\n",
      "2024-05-15 08:35:09,611:alto2txt.xml_to_text:85185:INFO:downloaded_newspapers/wolverhamptontimes/BLNewspapers_WolverhamptonTimesandMidlandCounties_0002603_1876/1216/0002603_18761216_mets.xml gave XSLT output\n",
      "2024-05-15 08:35:09,674:alto2txt.xml_to_text:85185:INFO:downloaded_newspapers/wolverhamptontimes/BLNewspapers_WolverhamptonTimesandMidlandCounties_0002603_1876/1216 {'num_files': 9, 'bad_xml': 0, 'converted_ok': 1, 'converted_bad': 0, 'skipped_alto': 8, 'skipped_bl_page': 0, 'skipped_mets_unknown': 0, 'skipped_root_unknown': 0, 'non_xml': 0}\n",
      "2024-05-15 08:35:09,686:alto2txt.xml_to_text:85185:INFO:Processing issue: BLNewspapers_WolverhamptonTimesandMidlandCounties_0002603_1876/0930\n",
      "2024-05-15 08:35:11,013:alto2txt.xml_to_text:85185:INFO:downloaded_newspapers/wolverhamptontimes/BLNewspapers_WolverhamptonTimesandMidlandCounties_0002603_1876/0930/0002603_18760930_mets.xml gave XSLT output\n",
      "2024-05-15 08:35:11,212:alto2txt.xml_to_text:85185:INFO:downloaded_newspapers/wolverhamptontimes/BLNewspapers_WolverhamptonTimesandMidlandCounties_0002603_1876/0930 {'num_files': 9, 'bad_xml': 0, 'converted_ok': 1, 'converted_bad': 0, 'skipped_alto': 8, 'skipped_bl_page': 0, 'skipped_mets_unknown': 0, 'skipped_root_unknown': 0, 'non_xml': 0}\n",
      "2024-05-15 08:35:11,226:alto2txt.xml_to_text:85185:INFO:Processing issue: BLNewspapers_WolverhamptonTimesandBilston_0002602_1874/1212\n",
      "2024-05-15 08:35:12,741:alto2txt.xml_to_text:85185:INFO:downloaded_newspapers/wolverhamptontimes/BLNewspapers_WolverhamptonTimesandBilston_0002602_1874/1212/0002602_18741212_mets.xml gave XSLT output\n",
      "2024-05-15 08:35:12,948:alto2txt.xml_to_text:85185:INFO:downloaded_newspapers/wolverhamptontimes/BLNewspapers_WolverhamptonTimesandBilston_0002602_1874/1212 {'num_files': 9, 'bad_xml': 0, 'converted_ok': 1, 'converted_bad': 0, 'skipped_alto': 8, 'skipped_bl_page': 0, 'skipped_mets_unknown': 0, 'skipped_root_unknown': 0, 'non_xml': 0}\n",
      "2024-05-15 08:35:12,956:alto2txt.xml_to_text:85185:INFO:Processing issue: BLNewspapers_WolverhamptonTimesandBilston_0002602_1874/1205\n",
      "2024-05-15 08:35:14,632:alto2txt.xml_to_text:85185:INFO:downloaded_newspapers/wolverhamptontimes/BLNewspapers_WolverhamptonTimesandBilston_0002602_1874/1205/0002602_18741205_mets.xml gave XSLT output\n",
      "2024-05-15 08:35:14,751:alto2txt.xml_to_text:85185:INFO:downloaded_newspapers/wolverhamptontimes/BLNewspapers_WolverhamptonTimesandBilston_0002602_1874/1205 {'num_files': 9, 'bad_xml': 0, 'converted_ok': 1, 'converted_bad': 0, 'skipped_alto': 8, 'skipped_bl_page': 0, 'skipped_mets_unknown': 0, 'skipped_root_unknown': 0, 'non_xml': 0}\n",
      "2024-05-15 08:35:14,768:alto2txt.xml_to_text:85185:INFO:Processing issue: BLNewspapers_WolverhamptonTimesandBilston_0002602_1874/1128\n",
      "2024-05-15 08:35:16,517:alto2txt.xml_to_text:85185:INFO:downloaded_newspapers/wolverhamptontimes/BLNewspapers_WolverhamptonTimesandBilston_0002602_1874/1128/0002602_18741128_mets.xml gave XSLT output\n",
      "2024-05-15 08:35:16,536:alto2txt.xml_to_text:85185:INFO:downloaded_newspapers/wolverhamptontimes/BLNewspapers_WolverhamptonTimesandBilston_0002602_1874/1128 {'num_files': 9, 'bad_xml': 0, 'converted_ok': 1, 'converted_bad': 0, 'skipped_alto': 8, 'skipped_bl_page': 0, 'skipped_mets_unknown': 0, 'skipped_root_unknown': 0, 'non_xml': 0}\n",
      "2024-05-15 08:35:16,547:alto2txt.xml_to_text:85185:INFO:Processing issue: BLNewspapers_WolverhamptonTimesandBilston_0002602_1874/1219\n",
      "2024-05-15 08:35:18,260:alto2txt.xml_to_text:85185:INFO:downloaded_newspapers/wolverhamptontimes/BLNewspapers_WolverhamptonTimesandBilston_0002602_1874/1219/0002602_18741219_mets.xml gave XSLT output\n",
      "2024-05-15 08:35:18,349:alto2txt.xml_to_text:85185:INFO:downloaded_newspapers/wolverhamptontimes/BLNewspapers_WolverhamptonTimesandBilston_0002602_1874/1219 {'num_files': 9, 'bad_xml': 0, 'converted_ok': 1, 'converted_bad': 0, 'skipped_alto': 8, 'skipped_bl_page': 0, 'skipped_mets_unknown': 0, 'skipped_root_unknown': 0, 'non_xml': 0}\n",
      "2024-05-15 08:35:18,364:alto2txt.xml_to_text:85185:INFO:Processing issue: BLNewspapers_WolverhamptonTimesandBilston_0002602_1874/1226\n",
      "2024-05-15 08:35:19,817:alto2txt.xml_to_text:85185:INFO:downloaded_newspapers/wolverhamptontimes/BLNewspapers_WolverhamptonTimesandBilston_0002602_1874/1226/0002602_18741226_mets.xml gave XSLT output\n",
      "2024-05-15 08:35:19,953:alto2txt.xml_to_text:85185:INFO:downloaded_newspapers/wolverhamptontimes/BLNewspapers_WolverhamptonTimesandBilston_0002602_1874/1226 {'num_files': 9, 'bad_xml': 0, 'converted_ok': 1, 'converted_bad': 0, 'skipped_alto': 8, 'skipped_bl_page': 0, 'skipped_mets_unknown': 0, 'skipped_root_unknown': 0, 'non_xml': 0}\n"
     ]
    }
   ],
   "source": [
    "multiprocess_xml_to_text.publications_to_text(\n",
    "    'downloaded_newspapers',\n",
    "    output_dir,\n",
    "    'log.txt')"
   ]
  },
  {
   "cell_type": "markdown",
   "metadata": {},
   "source": [
    "## Structure the data"
   ]
  },
  {
   "cell_type": "code",
   "execution_count": 10,
   "metadata": {},
   "outputs": [],
   "source": [
    "from bs4 import BeautifulSoup\n",
    "from glob import glob\n",
    "import re\n",
    "import csv"
   ]
  },
  {
   "cell_type": "code",
   "execution_count": 13,
   "metadata": {},
   "outputs": [
    {
     "data": {
      "text/plain": [
       "['newspapers_plain_text/wolverhamptontimes']"
      ]
     },
     "execution_count": 13,
     "metadata": {},
     "output_type": "execute_result"
    }
   ],
   "source": [
    "alltitles = glob(f'{output_dir}/*')\n",
    "alltitles"
   ]
  },
  {
   "cell_type": "markdown",
   "metadata": {},
   "source": [
    "[TODO Rename these variales to reflect Metadata DB?]"
   ]
  },
  {
   "cell_type": "code",
   "execution_count": 14,
   "metadata": {},
   "outputs": [],
   "source": [
    "columns = ['publication_code','issue_id','item_id','newspaper_title','data_provider','date','year','month','day','location','word_count','ocrquality','text']"
   ]
  },
  {
   "cell_type": "code",
   "execution_count": 25,
   "metadata": {},
   "outputs": [
    {
     "name": "stdout",
     "output_type": "stream",
     "text": [
      "reading newspapers_plain_text/wolverhamptontimes\n"
     ]
    }
   ],
   "source": [
    "filenotfound = '' # these could prob be safely removed\n",
    "leftbehind = '' # these could prob be safely removed\n",
    "\n",
    "with open('news_with_meta.csv', 'w') as csvout:\n",
    "    csv_output = csv.writer(csvout)\n",
    "    csv_output.writerow(columns)\n",
    "    for title in alltitles:\n",
    "        allyears = glob('{}/*'.format(title))\n",
    "        for year in allyears:\n",
    "            print(f'reading {year}')\n",
    "            allissues = glob('{}/*'.format(year))\n",
    "            for issue in allissues:\n",
    "                metadataxmls = glob('{}/*.xml'.format(issue))\n",
    "                for metadataxml in metadataxmls:\n",
    "                    with open(metadataxml, 'r') as meta:\n",
    "                        soup = BeautifulSoup(meta, 'lxml')\n",
    "                        try:\n",
    "                            ocrquality = soup.find('ocr_quality_mean').text\n",
    "#                             # Only take NPs with OCR over 90\n",
    "                            txtfilename = (soup.find('plain_text_file')).text\n",
    "                            word_count = soup.find('word_count').text\n",
    "                            date = soup.find('date').text\n",
    "                            year = date.split('-')[0]\n",
    "                            month = date.split('-')[1]\n",
    "                            day = date.split('-')[2]\n",
    "                            pubmeta = soup.find('publication')\n",
    "                            collection = pubmeta.find('source').text\n",
    "                            newstitle = pubmeta.find('title',recursive=False).text.strip()\n",
    "                            location = soup.find('location').text\n",
    "                            txtfilename.split('_')[0]\n",
    "                            nlp = txtfilename.split('_')[0]\n",
    "                            issue = txtfilename.split('_')[1].split(year)[-1]\n",
    "                            art_num = txtfilename.split('_')[-1].split('.txt')[0]\n",
    "                            txtpath = '/'.join(metadataxml.split('/')[:-1]) + '/' + txtfilename\n",
    "                            try:\n",
    "                                with open(txtpath) as txtfile:\n",
    "                                    contents = txtfile.read()\n",
    "                                    # Remove linebreaks\n",
    "                                    text = re.sub('-\\n', '', contents)\n",
    "                                    text = re.sub('\\n', ' ', text)\n",
    "                                    csv_output.writerow([nlp,issue,art_num,newstitle,collection,date,year,month,day,location,word_count,ocrquality,text])\n",
    "                            except FileNotFoundError:\n",
    "                                filenotfound += str(metadataxml + '\\n')\n",
    "                        except AttributeError:\n",
    "                            leftbehind += str(metadataxml + '\\n')\n",
    "\n",
    "with open('leftbehind.txt', 'w') as newleft:\n",
    "    newleft.write(leftbehind)\n",
    "\n",
    "with open('filenotfound.txt', 'w') as newleft:\n",
    "    newleft.write(filenotfound)\n"
   ]
  },
  {
   "cell_type": "markdown",
   "metadata": {},
   "source": [
    "## Check the CSV out"
   ]
  },
  {
   "cell_type": "code",
   "execution_count": 26,
   "metadata": {},
   "outputs": [],
   "source": [
    "import pandas as pd"
   ]
  },
  {
   "cell_type": "code",
   "execution_count": 28,
   "metadata": {},
   "outputs": [
    {
     "data": {
      "text/html": [
       "<div>\n",
       "<style scoped>\n",
       "    .dataframe tbody tr th:only-of-type {\n",
       "        vertical-align: middle;\n",
       "    }\n",
       "\n",
       "    .dataframe tbody tr th {\n",
       "        vertical-align: top;\n",
       "    }\n",
       "\n",
       "    .dataframe thead th {\n",
       "        text-align: right;\n",
       "    }\n",
       "</style>\n",
       "<table border=\"1\" class=\"dataframe\">\n",
       "  <thead>\n",
       "    <tr style=\"text-align: right;\">\n",
       "      <th></th>\n",
       "      <th>NLP</th>\n",
       "      <th>issue</th>\n",
       "      <th>art_num</th>\n",
       "      <th>title</th>\n",
       "      <th>collection</th>\n",
       "      <th>full_date</th>\n",
       "      <th>year</th>\n",
       "      <th>month</th>\n",
       "      <th>day</th>\n",
       "      <th>location</th>\n",
       "      <th>word_count</th>\n",
       "      <th>ocrquality</th>\n",
       "      <th>text</th>\n",
       "    </tr>\n",
       "  </thead>\n",
       "  <tbody>\n",
       "    <tr>\n",
       "      <th>0</th>\n",
       "      <td>2603</td>\n",
       "      <td>513</td>\n",
       "      <td>art0046</td>\n",
       "      <td>The Wolverhampton and Midland Counties Adverti...</td>\n",
       "      <td>British Library Living with Machines Project</td>\n",
       "      <td>1876-05-13</td>\n",
       "      <td>1876</td>\n",
       "      <td>5</td>\n",
       "      <td>13</td>\n",
       "      <td>Wolverhampton, West Midlands, England</td>\n",
       "      <td>154</td>\n",
       "      <td>0.9664</td>\n",
       "      <td>GREAT BRIDGE.  TRYING TO GOUGE A POLICEMAN'S E...</td>\n",
       "    </tr>\n",
       "    <tr>\n",
       "      <th>1</th>\n",
       "      <td>2603</td>\n",
       "      <td>513</td>\n",
       "      <td>art0013</td>\n",
       "      <td>The Wolverhampton and Midland Counties Adverti...</td>\n",
       "      <td>British Library Living with Machines Project</td>\n",
       "      <td>1876-05-13</td>\n",
       "      <td>1876</td>\n",
       "      <td>5</td>\n",
       "      <td>13</td>\n",
       "      <td>Wolverhampton, West Midlands, England</td>\n",
       "      <td>287</td>\n",
       "      <td>0.9563</td>\n",
       "      <td>THE PROPOSED REDUCTION IN WAR- . WICKSHIRE WA(...</td>\n",
       "    </tr>\n",
       "    <tr>\n",
       "      <th>2</th>\n",
       "      <td>2603</td>\n",
       "      <td>513</td>\n",
       "      <td>art0041</td>\n",
       "      <td>The Wolverhampton and Midland Counties Adverti...</td>\n",
       "      <td>British Library Living with Machines Project</td>\n",
       "      <td>1876-05-13</td>\n",
       "      <td>1876</td>\n",
       "      <td>5</td>\n",
       "      <td>13</td>\n",
       "      <td>Wolverhampton, West Midlands, England</td>\n",
       "      <td>869</td>\n",
       "      <td>0.9794</td>\n",
       "      <td>GOSSIP OF THE CLUBS. FROM OUR LONDON CORRESPON...</td>\n",
       "    </tr>\n",
       "    <tr>\n",
       "      <th>3</th>\n",
       "      <td>2603</td>\n",
       "      <td>513</td>\n",
       "      <td>art0014</td>\n",
       "      <td>The Wolverhampton and Midland Counties Adverti...</td>\n",
       "      <td>British Library Living with Machines Project</td>\n",
       "      <td>1876-05-13</td>\n",
       "      <td>1876</td>\n",
       "      <td>5</td>\n",
       "      <td>13</td>\n",
       "      <td>Wolverhampton, West Midlands, England</td>\n",
       "      <td>925</td>\n",
       "      <td>0.9580</td>\n",
       "      <td>WEDNESBITRY SCHOOL BOARD.  On Monday last, the...</td>\n",
       "    </tr>\n",
       "    <tr>\n",
       "      <th>4</th>\n",
       "      <td>2603</td>\n",
       "      <td>513</td>\n",
       "      <td>art0054</td>\n",
       "      <td>The Wolverhampton and Midland Counties Adverti...</td>\n",
       "      <td>British Library Living with Machines Project</td>\n",
       "      <td>1876-05-13</td>\n",
       "      <td>1876</td>\n",
       "      <td>5</td>\n",
       "      <td>13</td>\n",
       "      <td>Wolverhampton, West Midlands, England</td>\n",
       "      <td>875</td>\n",
       "      <td>0.9480</td>\n",
       "      <td>CHESS MATCH.  On Tuesday evening last, a match...</td>\n",
       "    </tr>\n",
       "  </tbody>\n",
       "</table>\n",
       "</div>"
      ],
      "text/plain": [
       "    NLP  issue  art_num                                              title  \\\n",
       "0  2603    513  art0046  The Wolverhampton and Midland Counties Adverti...   \n",
       "1  2603    513  art0013  The Wolverhampton and Midland Counties Adverti...   \n",
       "2  2603    513  art0041  The Wolverhampton and Midland Counties Adverti...   \n",
       "3  2603    513  art0014  The Wolverhampton and Midland Counties Adverti...   \n",
       "4  2603    513  art0054  The Wolverhampton and Midland Counties Adverti...   \n",
       "\n",
       "                                     collection   full_date  year  month  day  \\\n",
       "0  British Library Living with Machines Project  1876-05-13  1876      5   13   \n",
       "1  British Library Living with Machines Project  1876-05-13  1876      5   13   \n",
       "2  British Library Living with Machines Project  1876-05-13  1876      5   13   \n",
       "3  British Library Living with Machines Project  1876-05-13  1876      5   13   \n",
       "4  British Library Living with Machines Project  1876-05-13  1876      5   13   \n",
       "\n",
       "                                location  word_count  ocrquality  \\\n",
       "0  Wolverhampton, West Midlands, England         154      0.9664   \n",
       "1  Wolverhampton, West Midlands, England         287      0.9563   \n",
       "2  Wolverhampton, West Midlands, England         869      0.9794   \n",
       "3  Wolverhampton, West Midlands, England         925      0.9580   \n",
       "4  Wolverhampton, West Midlands, England         875      0.9480   \n",
       "\n",
       "                                                text  \n",
       "0  GREAT BRIDGE.  TRYING TO GOUGE A POLICEMAN'S E...  \n",
       "1  THE PROPOSED REDUCTION IN WAR- . WICKSHIRE WA(...  \n",
       "2  GOSSIP OF THE CLUBS. FROM OUR LONDON CORRESPON...  \n",
       "3  WEDNESBITRY SCHOOL BOARD.  On Monday last, the...  \n",
       "4  CHESS MATCH.  On Tuesday evening last, a match...  "
      ]
     },
     "execution_count": 28,
     "metadata": {},
     "output_type": "execute_result"
    }
   ],
   "source": [
    "df_news = pd.read_csv('news_with_meta.csv')\n",
    "df_news.head()"
   ]
  },
  {
   "cell_type": "markdown",
   "metadata": {},
   "source": [
    "## Enrich it with variables from the Press Directories"
   ]
  },
  {
   "cell_type": "markdown",
   "metadata": {},
   "source": [
    "[here link to latest version.]"
   ]
  },
  {
   "cell_type": "code",
   "execution_count": null,
   "metadata": {},
   "outputs": [],
   "source": [
    "press_dir_df = pd.read_csv('')"
   ]
  }
 ],
 "metadata": {
  "kernelspec": {
   "display_name": "Python 3",
   "language": "python",
   "name": "python3"
  },
  "language_info": {
   "codemirror_mode": {
    "name": "ipython",
    "version": 3
   },
   "file_extension": ".py",
   "mimetype": "text/x-python",
   "name": "python",
   "nbconvert_exporter": "python",
   "pygments_lexer": "ipython3",
   "version": "3.10.3"
  }
 },
 "nbformat": 4,
 "nbformat_minor": 2
}
